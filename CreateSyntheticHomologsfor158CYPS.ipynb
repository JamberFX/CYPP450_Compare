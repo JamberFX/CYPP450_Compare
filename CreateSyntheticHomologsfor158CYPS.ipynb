{
 "cells": [
  {
   "cell_type": "code",
   "execution_count": 15,
   "id": "e47280d9-eb05-460b-ad2a-c4e8d2531c5f",
   "metadata": {},
   "outputs": [],
   "source": [
    "from PCDTW import *\n",
    "from Bio import SeqIO\n",
    "\n",
    "\n",
    "inputfilename=\"C:/Users/jamie/OneDrive/Documents/Biology Projects/CYP450 Manuscript for \"\\\n",
    "                \"GBE/DataSets/158 SCOP CYPP450s Seq_Struct_Analysis/Sequence Files/158SCOPCYPSRenamed.fasta\"\n",
    "outputfilename=\"C:/Users/jamie/OneDrive/Documents/Biology Projects/CYP450 Manuscript for \"\\\n",
    "                \"GBE/DataSets/158 SCOP CYPP450s Seq_Struct_Analysis/Sequence Files/158SCOPCYPSSyntheticHomologs.fasta\"\n",
    "\n",
    "\n"
   ]
  },
  {
   "cell_type": "code",
   "execution_count": 12,
   "id": "54f352de-3ef9-467b-88ae-209a83b5db88",
   "metadata": {},
   "outputs": [],
   "source": [
    "#Create a dataset of synthetic homologs for the sequences in a fasta file\n",
    "\n",
    "#Open a fasta file with the input sequences\n",
    "records = list(SeqIO.parse(inputfilename, \"fasta\"))\n",
    "\n",
    "\n",
    "outputstring=\"\"\n",
    "\n",
    "#Create the synthetic homologs and save them to a fasta file\n",
    "for i in range(len(records)):\n",
    "    outputstring=outputstring+\">\"+str(records[i].id)+\"\\n\"+str(records[i].seq)+\"\\n\"\n",
    "    syntheticHoms=PCDTW.PCEvolve(Seq=str(records[i].seq),BaseName=str(records[i].id))\n",
    "    outputstring=outputstring+syntheticHoms\n",
    "    outputstring = outputstring.replace(\"SimHomolog_\", \"SH\")\n",
    "\n",
    "    with open(outputfilename, \"a\") as file:\n",
    "        file.write(outputstring)\n",
    "    \n",
    "\n"
   ]
  },
  {
   "cell_type": "code",
   "execution_count": 13,
   "id": "4bd00ad8-5cf0-421e-bba7-6451b9acfb0f",
   "metadata": {},
   "outputs": [
    {
     "name": "stdout",
     "output_type": "stream",
     "text": [
      "Arch_CYP_Q6KZ68_SH1\n",
      "MKLKPEVHYPGAWHVYNYGPVNHVLMKPNIFGGKEGKKYGKAGGIGFITMPKEPHNPFKPIGAEYFLEGNIKPYNPFIPPTGKPLINKIPKNPIIGPYAVKLEVKIIGNILGIEPGPMELFNLWGPYIIGKNKPPKFKYVKKKMVGKLLPIFNGPGHGIIKVLAGGGLNKKNLTMPPNINYIMLLIIGGKPTTTKLIGKMIKVIPPKEPIIPPALNKKGGFVPPTLKYYGEISFLEHKFAAPPGYIKKNNINNGPSVIVYLGGAKKPPTFFPPEPLFNIGKKPMHLAFGIGIHMCLGAELAKLPAGIALKPILKHFNKINIPYNNGKLLPKNMVLGYPNLFLG\n"
     ]
    }
   ],
   "source": [
    "#Check the output file\n",
    "outputrecords = list(SeqIO.parse(outputfilename, \"fasta\"))\n",
    "\n",
    "print(outputrecords[100].id)\n",
    "print(outputrecords[100].seq)"
   ]
  }
 ],
 "metadata": {
  "kernelspec": {
   "display_name": "Python 3 (ipykernel)",
   "language": "python",
   "name": "python3"
  },
  "language_info": {
   "codemirror_mode": {
    "name": "ipython",
    "version": 3
   },
   "file_extension": ".py",
   "mimetype": "text/x-python",
   "name": "python",
   "nbconvert_exporter": "python",
   "pygments_lexer": "ipython3",
   "version": "3.12.7"
  }
 },
 "nbformat": 4,
 "nbformat_minor": 5
}
